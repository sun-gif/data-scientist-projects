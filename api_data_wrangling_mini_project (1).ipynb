{
 "cells": [
  {
   "cell_type": "markdown",
   "metadata": {},
   "source": [
    "This exercise will require you to pull some data from the Qunadl API. Qaundl is currently the most widely used aggregator of financial market data."
   ]
  },
  {
   "cell_type": "markdown",
   "metadata": {},
   "source": [
    "As a first step, you will need to register a free account on the http://www.quandl.com website."
   ]
  },
  {
   "cell_type": "markdown",
   "metadata": {},
   "source": [
    "After you register, you will be provided with a unique API key, that you should store:"
   ]
  },
  {
   "cell_type": "code",
   "execution_count": 2,
   "metadata": {},
   "outputs": [],
   "source": [
    "# Store the API key as a string - according to PEP8, constants are always named in all upper case\n",
    "#API_KEY = ''"
   ]
  },
  {
   "cell_type": "markdown",
   "metadata": {},
   "source": [
    "Qaundl has a large number of data sources, but, unfortunately, most of them require a Premium subscription. Still, there are also a good number of free datasets."
   ]
  },
  {
   "cell_type": "markdown",
   "metadata": {},
   "source": [
    "For this mini project, we will focus on equities data from the Frankfurt Stock Exhange (FSE), which is available for free. We'll try and analyze the stock prices of a company called Carl Zeiss Meditec, which manufactures tools for eye examinations, as well as medical lasers for laser eye surgery: https://www.zeiss.com/meditec/int/home.html. The company is listed under the stock ticker AFX_X."
   ]
  },
  {
   "cell_type": "markdown",
   "metadata": {},
   "source": [
    "You can find the detailed Quandl API instructions here: https://docs.quandl.com/docs/time-series"
   ]
  },
  {
   "cell_type": "markdown",
   "metadata": {},
   "source": [
    "While there is a dedicated Python package for connecting to the Quandl API, we would prefer that you use the *requests* package, which can be easily downloaded using *pip* or *conda*. You can find the documentation for the package here: http://docs.python-requests.org/en/master/ "
   ]
  },
  {
   "cell_type": "markdown",
   "metadata": {},
   "source": [
    "Finally, apart from the *requests* package, you are encouraged to not use any third party Python packages, such as *pandas*, and instead focus on what's available in the Python Standard Library (the *collections* module might come in handy: https://pymotw.com/3/collections/ ).\n",
    "Also, since you won't have access to DataFrames, you are encouraged to us Python's native data structures - preferably dictionaries, though some questions can also be answered using lists.\n",
    "You can read more on these data structures here: https://docs.python.org/3/tutorial/datastructures.html"
   ]
  },
  {
   "cell_type": "markdown",
   "metadata": {},
   "source": [
    "Keep in mind that the JSON responses you will be getting from the API map almost one-to-one to Python's dictionaries. Unfortunately, they can be very nested, so make sure you read up on indexing dictionaries in the documentation provided above."
   ]
  },
  {
   "cell_type": "code",
   "execution_count": 40,
   "metadata": {},
   "outputs": [],
   "source": [
    "# First, import the relevant modules\n",
    "import requests\n"
   ]
  },
  {
   "cell_type": "code",
   "execution_count": 52,
   "metadata": {
    "scrolled": true
   },
   "outputs": [
    {
     "data": {
      "text/plain": [
       "'{\"dataset_data\":{\"limit\":null,\"transform\":null,\"column_index\":null,\"column_names\":[\"Date\",\"Open\",\"High\",\"Low\",\"Close\",\"Change\",\"Traded Volume\",\"Turnover\",\"Last Price of the Day\",\"Daily Traded Units\",\"Daily Turnover\"],\"start_date\":\"2019-02-01\",\"end_date\":\"2019-02-01\",\"frequency\":\"daily\",\"data\":[[\"2019-02-01\",null,81.65,78.2,78.45,null,null,null,null,null,null]],\"collapse\":null,\"order\":null}}'"
      ]
     },
     "execution_count": 52,
     "metadata": {},
     "output_type": "execute_result"
    }
   ],
   "source": [
    "# Now, call the Quandl API and pull out a small sample of the data (only one day) to get a glimpse\n",
    "# into the JSON structure that will be returned\n",
    "params=dict(key=API_KEY,start_date='2019-02-01',end_date='2019-02-01')\n",
    "res=requests.get('https://www.quandl.com/api/v3/datasets/FSE/AFX_X/data.json',params)\n",
    "\n",
    "\n",
    "res.text"
   ]
  },
  {
   "cell_type": "code",
   "execution_count": 53,
   "metadata": {},
   "outputs": [
    {
     "name": "stdout",
     "output_type": "stream",
     "text": [
      "{'dataset_data': {'limit': None, 'transform': None, 'column_index': None, 'column_names': ['Date', 'Open', 'High', 'Low', 'Close', 'Change', 'Traded Volume', 'Turnover', 'Last Price of the Day', 'Daily Traded Units', 'Daily Turnover'], 'start_date': '2019-02-01', 'end_date': '2019-02-01', 'frequency': 'daily', 'data': [['2019-02-01', None, 81.65, 78.2, 78.45, None, None, None, None, None, None]], 'collapse': None, 'order': None}}\n"
     ]
    }
   ],
   "source": [
    "# Inspect the JSON structure of the object you created, and take note of how nested it is,\n",
    "# as well as the overall structure\n",
    "print(res.json())"
   ]
  },
  {
   "cell_type": "markdown",
   "metadata": {},
   "source": [
    "These are your tasks for this mini project:\n",
    "\n",
    "1. Collect data from the Franfurt Stock Exchange, for the ticker AFX_X, for the whole year 2017 (keep in mind that the date format is YYYY-MM-DD).\n",
    "2. Convert the returned JSON object into a Python dictionary.\n",
    "3. Calculate what the highest and lowest opening prices were for the stock in this period.\n",
    "4. What was the largest change in any one day (based on High and Low price)?\n",
    "5. What was the largest change between any two days (based on Closing Price)?\n",
    "6. What was the average daily trading volume during this year?\n",
    "7. (Optional) What was the median trading volume during this year. (Note: you may need to implement your own function for calculating the median.)"
   ]
  },
  {
   "cell_type": "code",
   "execution_count": 54,
   "metadata": {},
   "outputs": [],
   "source": [
    "#1Collect data from the Franfurt Stock Exchange, for the ticker AFX_X, for the whole year 2017 (keep in mind that the date format is YYYY-MM-DD).\n",
    "params=dict(key='API_KEY',start_date='2017-01-01',end_date='2017-12-31')\n",
    "data=requests.get('https://www.quandl.com/api/v3/datasets/FSE/AFX_X/data.json',params)\n"
   ]
  },
  {
   "cell_type": "code",
   "execution_count": 55,
   "metadata": {},
   "outputs": [
    {
     "name": "stdout",
     "output_type": "stream",
     "text": [
      "<class 'dict'>\n"
     ]
    }
   ],
   "source": [
    "#2Convert the returned JSON object into a Python dictionary.\n",
    "import json \n",
    "  \n",
    "dict2=data.json()\n",
    "\n",
    "print(type(dict2))"
   ]
  },
  {
   "cell_type": "code",
   "execution_count": 70,
   "metadata": {},
   "outputs": [
    {
     "name": "stdout",
     "output_type": "stream",
     "text": [
      "Highest opening price in 2017 was $53.11 and lowest opening price in 2017 was $34.00.\n"
     ]
    }
   ],
   "source": [
    "#3Calculate what the highest and lowest opening prices were for the stock in this period.\n",
    "omax=0\n",
    "omin=float(\"inf\")\n",
    "for row in dict2['dataset_data']['data']:\n",
    "    if row[1] != None:\n",
    "        if row[1]>omax:\n",
    "            omax=row[1]\n",
    "        if row[1]<omin:\n",
    "            omin=row[1]\n",
    "\n",
    "print(\"Highest opening price in 2017 was ${0:.2f} and lowest opening price in 2017 was ${1:.2f}.\" \\\n",
    "      .format(round(omax, 2), round(omin, 2)))   "
   ]
  },
  {
   "cell_type": "code",
   "execution_count": 72,
   "metadata": {},
   "outputs": [
    {
     "name": "stdout",
     "output_type": "stream",
     "text": [
      "Largest change in one day in 2017 was $2.81.\n"
     ]
    }
   ],
   "source": [
    "#4What was the largest change in any one day (based on High and Low price)\n",
    "dmax=0\n",
    "for row in dict2['dataset_data']['data']:\n",
    "    if row[1]!=None:\n",
    "        if row[2]-row[3]> dmax:\n",
    "            dmax=row[2]-row[3]\n",
    "print(\"Largest change in one day in 2017 was ${0:.2f}.\" .format(round(dmax,2)))        "
   ]
  },
  {
   "cell_type": "code",
   "execution_count": 79,
   "metadata": {},
   "outputs": [
    {
     "name": "stdout",
     "output_type": "stream",
     "text": [
      "largest change between any two days in 2017 was $19.03.\n"
     ]
    }
   ],
   "source": [
    "#5What was the largest change between any two days (based on Closing Price)?\n",
    "#tmax=0\n",
    "#tmin=float('inf')\n",
    "#for row in dict2['dataset_data']['data']:\n",
    "#    if row[4]!=None:\n",
    " #       if row[4]>tmax:\n",
    "  #          tmax=row[4]\n",
    "   #     if row[4]<tmin:\n",
    "    #        tmin= row[4]\n",
    "#print('largest change between any two days in 2017 was ${0:.2f}.'.format(round((tmax-tmin),2)))            "
   ]
  },
  {
   "cell_type": "code",
   "execution_count": 88,
   "metadata": {},
   "outputs": [
    {
     "name": "stdout",
     "output_type": "stream",
     "text": [
      "The largest change between any two days (based on Closing Price) was $2.56 on 2017-08-08 .\n"
     ]
    }
   ],
   "source": [
    "#5What was the largest change between any two continous days (based on Closing Price)?\n",
    "day_diff_max = {}\n",
    "close_early =  dict2[\"dataset_data\"][\"data\"][0][4]\n",
    "\n",
    "for row in dict2[\"dataset_data\"][\"data\"][1:]:\n",
    "    close = row[4]\n",
    "    day_diff_max[row[0]] = abs(close_early - close)\n",
    "    close_early = close\n",
    "\n",
    "day_diff_max_date, day_diff_max_value = max(day_diff_max.items(), key=lambda k:k[1])\n",
    "print(\"The largest change between any two days (based on Closing Price) was ${0:.2f} on {1} .\" \\\n",
    "      .format(round(day_diff_max_value, 2), (day_diff_max_date)))"
   ]
  },
  {
   "cell_type": "code",
   "execution_count": 89,
   "metadata": {},
   "outputs": [
    {
     "name": "stdout",
     "output_type": "stream",
     "text": [
      "the average daily trading volume during this year was $89124.34.\n"
     ]
    }
   ],
   "source": [
    "#6 What was the average daily trading volume during this year?\n",
    "trad_volu=[row[6] for row in dict2['dataset_data']['data']]\n",
    "avg=sum(trad_volu)/len(trad_volu)\n",
    "\n",
    "print('the average daily trading volume during this year was ${0:.2f}.'.format(round(avg, 2)))   \n",
    "    "
   ]
  },
  {
   "cell_type": "code",
   "execution_count": 83,
   "metadata": {},
   "outputs": [
    {
     "name": "stdout",
     "output_type": "stream",
     "text": [
      "The median trading volume was $76286.00 in 2017 .\n"
     ]
    }
   ],
   "source": [
    "#7 (Optional) What was the median trading volume during this year. (Note: you may need to implement your own function for calculating the median.)\n",
    "trd_vol= [row[6] for row in dict2['dataset_data']['data']]\n",
    "sortedtrd = sorted(trd_vol) # in ascending order\n",
    "n=len(sortedtrd)\n",
    "if n % 2 != 0:\n",
    "    median_vol = sortedtrd[n // 2]\n",
    "else:\n",
    "    median_vol = (sortedtrd[n // 2 - 1] + sortedtrd[n // 2]) / 2\n",
    "\n",
    "print(\"The median trading volume was ${0:.2f} in 2017 .\" .format(round(median_vol, 2)))"
   ]
  },
  {
   "cell_type": "code",
   "execution_count": null,
   "metadata": {},
   "outputs": [],
   "source": []
  }
 ],
 "metadata": {
  "kernelspec": {
   "display_name": "Python 3",
   "language": "python",
   "name": "python3"
  },
  "language_info": {
   "codemirror_mode": {
    "name": "ipython",
    "version": 3
   },
   "file_extension": ".py",
   "mimetype": "text/x-python",
   "name": "python",
   "nbconvert_exporter": "python",
   "pygments_lexer": "ipython3",
   "version": "3.7.4"
  }
 },
 "nbformat": 4,
 "nbformat_minor": 2
}
